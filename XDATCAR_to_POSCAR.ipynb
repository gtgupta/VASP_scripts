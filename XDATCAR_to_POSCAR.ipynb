{
  "nbformat": 4,
  "nbformat_minor": 0,
  "metadata": {
    "colab": {
      "provenance": [],
      "authorship_tag": "ABX9TyOyx7r2UqdiZV5Jnyzce7eV",
      "include_colab_link": true
    },
    "kernelspec": {
      "name": "python3",
      "display_name": "Python 3"
    },
    "language_info": {
      "name": "python"
    }
  },
  "cells": [
    {
      "cell_type": "markdown",
      "metadata": {
        "id": "view-in-github",
        "colab_type": "text"
      },
      "source": [
        "<a href=\"https://colab.research.google.com/github/gtgupta/VASP_scripts/blob/main/XDATCAR_to_POSCAR.ipynb\" target=\"_parent\"><img src=\"https://colab.research.google.com/assets/colab-badge.svg\" alt=\"Open In Colab\"/></a>"
      ]
    },
    {
      "cell_type": "markdown",
      "source": [
        "`Generate POSCAR frames from XDATCAR trajectory`"
      ],
      "metadata": {
        "id": "uv3Wb7xLCOLx"
      }
    },
    {
      "cell_type": "code",
      "source": [
        "#Geet G.\n",
        "import os\n",
        "from ase.io import read, write\n",
        "\n",
        "# read the XDATCAR file\n",
        "os.makedirs('POSCARs_sep')  # makes a folder named 'POSCARs_sep' in running directory\n",
        "positions = read('XDATCAR', index='::')  # read \"XDATCAR\" file from the running directory, one can always modify index argument to \n",
        "                                         # extract specfic POSCAR frame\n",
        "\n",
        "# loop over the frames in the XDATCAR file\n",
        "for i, atoms in enumerate(positions):  #iterates over all the positional frames in XDATCAR \n",
        "    atoms.wrap()                       # wraps atoms in every frame of trajectory\n",
        "    write('POSCARs_sep/POSCAR_{}.vasp'.format(i), atoms)    #write a POSCAR_1, POSCAR_11 etc for step 1 , 11 and so on.\n"
      ],
      "metadata": {
        "id": "hRFdZ92QCTxA"
      },
      "execution_count": null,
      "outputs": []
    }
  ]
}