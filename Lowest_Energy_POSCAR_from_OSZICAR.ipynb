{
  "nbformat": 4,
  "nbformat_minor": 0,
  "metadata": {
    "colab": {
      "provenance": [],
      "authorship_tag": "ABX9TyPBHtSiE02vCfw4SRHKe+zM",
      "include_colab_link": true
    },
    "kernelspec": {
      "name": "python3",
      "display_name": "Python 3"
    },
    "language_info": {
      "name": "python"
    }
  },
  "cells": [
    {
      "cell_type": "markdown",
      "metadata": {
        "id": "view-in-github",
        "colab_type": "text"
      },
      "source": [
        "<a href=\"https://colab.research.google.com/github/gtgupta/VASP_scripts/blob/main/Lowest_Energy_POSCAR_from_OSZICAR.ipynb\" target=\"_parent\"><img src=\"https://colab.research.google.com/assets/colab-badge.svg\" alt=\"Open In Colab\"/></a>"
      ]
    },
    {
      "cell_type": "markdown",
      "source": [
        "`Generate lowest energy POSCAR frame from OSZICAR and XDATCAR`  \n",
        "*** Both OSZICAR and XDATCAR must be in the same folder ***"
      ],
      "metadata": {
        "id": "gNbyXwQEFDeE"
      }
    },
    {
      "cell_type": "code",
      "execution_count": null,
      "metadata": {
        "id": "96pw982OEKSX"
      },
      "outputs": [],
      "source": [
        "import numpy as np\n",
        "from ase.io import read, write\n",
        "\n",
        "# read the OSZICAR file\n",
        "energies = np.genfromtxt('OSZICAR', usecols=(2), skip_header=1) \n",
        "# genfromtxt returns an array of the energies\n",
        "# usecols specifies energy column that has energies \n",
        "# skip_header skips first row header since energies starts from second row\n",
        "\n",
        "# read the XDATCAR file\n",
        "traj = read('XDATCAR', index='::') # can modify indexes if specific energy is desired\n",
        "\n",
        "# find the index of the frame with the lowest energy\n",
        "lowest_energy_index = energies.argmin()\n",
        "# 'argmin' function find the index of the frame with lowest energy in stored variable 'energies'\n",
        "\n",
        "# get the atoms object for the lowest energy frame\n",
        "atoms = traj[lowest_energy_index + 1]\n",
        "# find frames with desired index that corresponds to lowest energy configuration\n",
        "\n",
        "# wrap the atoms in the cell\n",
        "atoms.wrap()\n",
        "\n",
        "# write the POSCAR file for the lowest energy frame\n",
        "write('POSCAR.vasp', atoms)"
      ]
    }
  ]
}